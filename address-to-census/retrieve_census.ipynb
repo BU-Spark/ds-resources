{
 "cells": [
  {
   "cell_type": "code",
   "execution_count": null,
   "metadata": {},
   "outputs": [],
   "source": [
    "import requests\n",
    "\n",
    "def get_census_tract(street, city, state, zip_code=None):\n",
    "    base_url = \"https://geocoding.geo.census.gov/geocoder/geographies/address\"\n",
    "    params = {\n",
    "        \"street\": street,\n",
    "        \"city\": city,\n",
    "        \"state\": state,\n",
    "        \"zip\": zip_code,\n",
    "        \"benchmark\": \"Public_AR_Census2020\",\n",
    "        \"vintage\": \"Census2020_Census2020\",\n",
    "        \"format\": \"json\"\n",
    "    }\n",
    "    \n",
    "    response = requests.get(base_url, params=params)\n",
    "    data = response.json()\n",
    "    \n",
    "    try:\n",
    "        tract = data[\"result\"][\"addressMatches\"][0][\"geographies\"][\"Census Tracts\"][0][\"GEOID\"]\n",
    "        return tract\n",
    "    except (IndexError, KeyError):\n",
    "        return None\n",
    "\n",
    "tract = get_census_tract(\"<st>\", \"<city>\", \"<state>\", \"<zip>\") # Change this line\n",
    "print(\"Census Tract:\", tract)\n",
    "\n",
    "# Output: state code [xx], county code [xxx], tract code [xxxx.xx] "
   ]
  }
 ],
 "metadata": {
  "kernelspec": {
   "display_name": "default_venv",
   "language": "python",
   "name": "python3"
  },
  "language_info": {
   "codemirror_mode": {
    "name": "ipython",
    "version": 3
   },
   "file_extension": ".py",
   "mimetype": "text/x-python",
   "name": "python",
   "nbconvert_exporter": "python",
   "pygments_lexer": "ipython3",
   "version": "3.9.6"
  }
 },
 "nbformat": 4,
 "nbformat_minor": 2
}
