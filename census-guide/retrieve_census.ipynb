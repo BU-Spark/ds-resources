{
 "cells": [
  {
   "cell_type": "code",
   "execution_count": 3,
   "metadata": {},
   "outputs": [],
   "source": [
    "import requests\n"
   ]
  },
  {
   "cell_type": "code",
   "execution_count": 17,
   "metadata": {},
   "outputs": [],
   "source": [
    "# set variables\n",
    "year='2020'\n",
    "dsource='dec' # which survey are we interested in? -> decennial\n",
    "dname='pl' # a dataset within a survey, pl -> redistricting data\n",
    "state='25' # state code -> Massachusetts\n"
   ]
  },
  {
   "cell_type": "code",
   "execution_count": 37,
   "metadata": {},
   "outputs": [],
   "source": [
    "# specify the specific data columns we want\n",
    "cols = 'NAME,P2_001N,P2_002N,P2_003N,P2_004N,P2_005N,P2_006N,P2_007N,P2_008N,P2_009N,P2_010N'\n"
   ]
  },
  {
   "cell_type": "code",
   "execution_count": 38,
   "metadata": {},
   "outputs": [
    {
     "name": "stdout",
     "output_type": "stream",
     "text": [
      "['NAME', 'P2_001N', 'P2_002N', 'P2_003N', 'P2_004N', 'P2_005N', 'P2_006N', 'P2_007N', 'P2_008N', 'P2_009N', 'P2_010N', 'state']\n",
      "['Massachusetts', '7029917', '887685', '6142232', '5813954', '4748897', '457055', '9387', '504900', '1607', '92108', '25']\n"
     ]
    }
   ],
   "source": [
    "base_url = f\"https://api.census.gov/data/{year}/{dsource}/{dname}\"\n",
    "census_url = f\"{base_url}?get={cols}&for=state:{state}\"\n",
    "census_response = requests.get(census_url)\n",
    "\n",
    "# check if the response was successful\n",
    "if census_response.status_code == 200:\n",
    "    data = census_response.json()\n",
    "    print(data[0]) # print column names\n",
    "    print(data[1]) # print data\n",
    "else: # response was not successful\n",
    "    print('Error: ' + str(census_response.status_code))\n"
   ]
  },
  {
   "cell_type": "code",
   "execution_count": 40,
   "metadata": {},
   "outputs": [
    {
     "name": "stdout",
     "output_type": "stream",
     "text": [
      "[['NAME', 'P2_001N', 'P2_002N', 'P2_003N', 'P2_004N', 'P2_005N', 'P2_006N', 'P2_007N', 'P2_008N', 'P2_009N', 'P2_010N', 'state', 'county', 'tract', 'block'], ['Block 3011, Block Group 3, Census Tract 101.03, Suffolk County, Massachusetts', '71', '9', '62', '61', '41', '6', '0', '10', '0', '4', '25', '025', '010103', '3011']]\n"
     ]
    }
   ],
   "source": [
    "# get block demographics for block 3011, census block that ccds is in\n",
    "county = '025'\n",
    "tract = '010103'\n",
    "block = '3011'\n",
    "\n",
    "block_url = f\"{base_url}?get={cols}&for=block:{block}&in=tract:{tract}\\\n",
    "            &in=county:{county}&in=state:{state}\"\n",
    "block_response = requests.get(block_url)\n",
    "block_data = block_response.json()\n",
    "# print(block_data[0]) # print column names\n",
    "# print(block_data[1]) # print data\n",
    "print(block_data)"
   ]
  },
  {
   "cell_type": "code",
   "execution_count": 41,
   "metadata": {},
   "outputs": [
    {
     "name": "stdout",
     "output_type": "stream",
     "text": [
      "['NAME', 'P2_001N', 'P2_002N', 'P2_003N', 'P2_004N', 'P2_005N', 'P2_006N', 'P2_007N', 'P2_008N', 'P2_009N', 'P2_010N', 'state', 'county', 'tract', 'block']\n",
      "['Block 3011, Block Group 3, Census Tract 101.03, Suffolk County, Massachusetts', '71', '9', '62', '61', '41', '6', '0', '10', '0', '4', '25', '025', '010103', '3011']\n"
     ]
    }
   ],
   "source": [
    "for i in block_data:\n",
    "    print(i)"
   ]
  },
  {
   "cell_type": "code",
   "execution_count": 44,
   "metadata": {},
   "outputs": [
    {
     "name": "stdout",
     "output_type": "stream",
     "text": [
      "Census Tract: 25025000601\n"
     ]
    }
   ],
   "source": [
    "import requests\n",
    "\n",
    "def get_census_tract(street, city, state, zip_code=None):\n",
    "    base_url = \"https://geocoding.geo.census.gov/geocoder/geographies/address\"\n",
    "    params = {\n",
    "        \"street\": street,\n",
    "        \"city\": city,\n",
    "        \"state\": state,\n",
    "        \"zip\": zip_code,\n",
    "        \"benchmark\": \"Public_AR_Census2020\",\n",
    "        \"vintage\": \"Census2020_Census2020\",\n",
    "        \"format\": \"json\"\n",
    "    }\n",
    "    \n",
    "    response = requests.get(base_url, params=params)\n",
    "    data = response.json()\n",
    "    \n",
    "    try:\n",
    "        tract = data[\"result\"][\"addressMatches\"][0][\"geographies\"][\"Census Tracts\"][0][\"GEOID\"]\n",
    "        return tract\n",
    "    except (IndexError, KeyError):\n",
    "        return None\n",
    "\n",
    "tract = get_census_tract(\"<st>\", \"<city>\", \"<state>\", \"<zip>\")\n",
    "print(\"Census Tract:\", tract)\n",
    "\n",
    "# state code [xx], county code [xxx], tract code [xxxx.xx] \n"
   ]
  }
 ],
 "metadata": {
  "kernelspec": {
   "display_name": "default_venv",
   "language": "python",
   "name": "python3"
  },
  "language_info": {
   "codemirror_mode": {
    "name": "ipython",
    "version": 3
   },
   "file_extension": ".py",
   "mimetype": "text/x-python",
   "name": "python",
   "nbconvert_exporter": "python",
   "pygments_lexer": "ipython3",
   "version": "3.9.6"
  }
 },
 "nbformat": 4,
 "nbformat_minor": 2
}
